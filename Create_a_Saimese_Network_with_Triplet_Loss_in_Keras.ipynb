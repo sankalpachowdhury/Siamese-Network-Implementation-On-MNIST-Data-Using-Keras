{
  "nbformat": 4,
  "nbformat_minor": 0,
  "metadata": {
    "colab": {
      "name": "Create a Saimese Network with Triplet Loss in Keras.ipynb",
      "provenance": [],
      "collapsed_sections": [],
      "toc_visible": true,
      "authorship_tag": "ABX9TyP9EPnlzx/HuckiuFju/b4u",
      "include_colab_link": true
    },
    "kernelspec": {
      "name": "python3",
      "display_name": "Python 3"
    }
  },
  "cells": [
    {
      "cell_type": "markdown",
      "metadata": {
        "id": "view-in-github",
        "colab_type": "text"
      },
      "source": [
        "<a href=\"https://colab.research.google.com/github/sayan0506/Siamese-Network-Implementation-On-MNIST-Data-Using-Keras-/blob/master/Create_a_Saimese_Network_with_Triplet_Loss_in_Keras.ipynb\" target=\"_parent\"><img src=\"https://colab.research.google.com/assets/colab-badge.svg\" alt=\"Open In Colab\"/></a>"
      ]
    },
    {
      "cell_type": "markdown",
      "metadata": {
        "id": "aGwpgO0oXwe7"
      },
      "source": [
        "# Siamese Network with Triplet Loss implementation using Keras on MNIST Dataset"
      ]
    },
    {
      "cell_type": "markdown",
      "metadata": {
        "id": "LtaBRxXkXshq"
      },
      "source": [
        "#Importing necessary python **modules**"
      ]
    },
    {
      "cell_type": "code",
      "metadata": {
        "id": "aIfpiFIfkr6u",
        "outputId": "5d8ac138-29cc-47a9-d75d-33f262457ffd",
        "colab": {
          "base_uri": "https://localhost:8080/",
          "height": 649
        }
      },
      "source": [
        "# Installing livelossplot module for dynamical plot of model training\n",
        "!pip install git+git://github.com/stared/livelossplot.git"
      ],
      "execution_count": 163,
      "outputs": [
        {
          "output_type": "stream",
          "text": [
            "Collecting git+git://github.com/stared/livelossplot.git\n",
            "  Cloning git://github.com/stared/livelossplot.git to /tmp/pip-req-build-03bmnnn3\n",
            "  Running command git clone -q git://github.com/stared/livelossplot.git /tmp/pip-req-build-03bmnnn3\n",
            "Requirement already satisfied (use --upgrade to upgrade): livelossplot==0.5.3 from git+git://github.com/stared/livelossplot.git in /usr/local/lib/python3.6/dist-packages\n",
            "Requirement already satisfied: ipython in /usr/local/lib/python3.6/dist-packages (from livelossplot==0.5.3) (5.5.0)\n",
            "Requirement already satisfied: matplotlib in /usr/local/lib/python3.6/dist-packages (from livelossplot==0.5.3) (3.2.2)\n",
            "Requirement already satisfied: bokeh in /usr/local/lib/python3.6/dist-packages (from livelossplot==0.5.3) (2.1.1)\n",
            "Requirement already satisfied: pygments in /usr/local/lib/python3.6/dist-packages (from ipython->livelossplot==0.5.3) (2.6.1)\n",
            "Requirement already satisfied: setuptools>=18.5 in /usr/local/lib/python3.6/dist-packages (from ipython->livelossplot==0.5.3) (50.3.0)\n",
            "Requirement already satisfied: traitlets>=4.2 in /usr/local/lib/python3.6/dist-packages (from ipython->livelossplot==0.5.3) (4.3.3)\n",
            "Requirement already satisfied: pexpect; sys_platform != \"win32\" in /usr/local/lib/python3.6/dist-packages (from ipython->livelossplot==0.5.3) (4.8.0)\n",
            "Requirement already satisfied: decorator in /usr/local/lib/python3.6/dist-packages (from ipython->livelossplot==0.5.3) (4.4.2)\n",
            "Requirement already satisfied: prompt-toolkit<2.0.0,>=1.0.4 in /usr/local/lib/python3.6/dist-packages (from ipython->livelossplot==0.5.3) (1.0.18)\n",
            "Requirement already satisfied: pickleshare in /usr/local/lib/python3.6/dist-packages (from ipython->livelossplot==0.5.3) (0.7.5)\n",
            "Requirement already satisfied: simplegeneric>0.8 in /usr/local/lib/python3.6/dist-packages (from ipython->livelossplot==0.5.3) (0.8.1)\n",
            "Requirement already satisfied: python-dateutil>=2.1 in /usr/local/lib/python3.6/dist-packages (from matplotlib->livelossplot==0.5.3) (2.8.1)\n",
            "Requirement already satisfied: numpy>=1.11 in /usr/local/lib/python3.6/dist-packages (from matplotlib->livelossplot==0.5.3) (1.18.5)\n",
            "Requirement already satisfied: pyparsing!=2.0.4,!=2.1.2,!=2.1.6,>=2.0.1 in /usr/local/lib/python3.6/dist-packages (from matplotlib->livelossplot==0.5.3) (2.4.7)\n",
            "Requirement already satisfied: cycler>=0.10 in /usr/local/lib/python3.6/dist-packages (from matplotlib->livelossplot==0.5.3) (0.10.0)\n",
            "Requirement already satisfied: kiwisolver>=1.0.1 in /usr/local/lib/python3.6/dist-packages (from matplotlib->livelossplot==0.5.3) (1.2.0)\n",
            "Requirement already satisfied: packaging>=16.8 in /usr/local/lib/python3.6/dist-packages (from bokeh->livelossplot==0.5.3) (20.4)\n",
            "Requirement already satisfied: PyYAML>=3.10 in /usr/local/lib/python3.6/dist-packages (from bokeh->livelossplot==0.5.3) (3.13)\n",
            "Requirement already satisfied: pillow>=4.0 in /usr/local/lib/python3.6/dist-packages (from bokeh->livelossplot==0.5.3) (7.0.0)\n",
            "Requirement already satisfied: Jinja2>=2.7 in /usr/local/lib/python3.6/dist-packages (from bokeh->livelossplot==0.5.3) (2.11.2)\n",
            "Requirement already satisfied: tornado>=5.1 in /usr/local/lib/python3.6/dist-packages (from bokeh->livelossplot==0.5.3) (5.1.1)\n",
            "Requirement already satisfied: typing-extensions>=3.7.4 in /usr/local/lib/python3.6/dist-packages (from bokeh->livelossplot==0.5.3) (3.7.4.3)\n",
            "Requirement already satisfied: six in /usr/local/lib/python3.6/dist-packages (from traitlets>=4.2->ipython->livelossplot==0.5.3) (1.15.0)\n",
            "Requirement already satisfied: ipython-genutils in /usr/local/lib/python3.6/dist-packages (from traitlets>=4.2->ipython->livelossplot==0.5.3) (0.2.0)\n",
            "Requirement already satisfied: ptyprocess>=0.5 in /usr/local/lib/python3.6/dist-packages (from pexpect; sys_platform != \"win32\"->ipython->livelossplot==0.5.3) (0.6.0)\n",
            "Requirement already satisfied: wcwidth in /usr/local/lib/python3.6/dist-packages (from prompt-toolkit<2.0.0,>=1.0.4->ipython->livelossplot==0.5.3) (0.2.5)\n",
            "Requirement already satisfied: MarkupSafe>=0.23 in /usr/local/lib/python3.6/dist-packages (from Jinja2>=2.7->bokeh->livelossplot==0.5.3) (1.1.1)\n",
            "Building wheels for collected packages: livelossplot\n",
            "  Building wheel for livelossplot (setup.py) ... \u001b[?25l\u001b[?25hdone\n",
            "  Created wheel for livelossplot: filename=livelossplot-0.5.3-cp36-none-any.whl size=22611 sha256=a39047bc6bccbb04c082b374daeac54f8d94122de019a26e55ba89c6e161b9b2\n",
            "  Stored in directory: /tmp/pip-ephem-wheel-cache-s9y6biv9/wheels/77/01/ea/cef3581d9c77ece0fd685cc3eb1cd92dc68d8117b361ac65dc\n",
            "Successfully built livelossplot\n"
          ],
          "name": "stdout"
        }
      ]
    },
    {
      "cell_type": "code",
      "metadata": {
        "id": "nsNuT_YAQNSz",
        "outputId": "04a26a1e-6d61-4605-bae0-6d0c9eb1db6a",
        "colab": {
          "base_uri": "https://localhost:8080/",
          "height": 34
        }
      },
      "source": [
        "import tensorflow as tf\n",
        "from matplotlib import pyplot as plt\n",
        "import numpy as np\n",
        "import random\n",
        "from tensorflow import keras\n",
        "from keras.utils.vis_utils import plot_model\n",
        "from keras.optimizers import Adam\n",
        "from livelossplot.tf_keras import  PlotLossesCallback\n",
        "\n",
        "print('Tensorflow version: ',tf.version.VERSION)"
      ],
      "execution_count": 164,
      "outputs": [
        {
          "output_type": "stream",
          "text": [
            "Tensorflow version:  2.3.0\n"
          ],
          "name": "stdout"
        }
      ]
    },
    {
      "cell_type": "markdown",
      "metadata": {
        "id": "GttC3qwkYvA7"
      },
      "source": [
        "# Siamese Network Approach"
      ]
    },
    {
      "cell_type": "markdown",
      "metadata": {
        "id": "dMKJ1JwZY2pD"
      },
      "source": [
        "The concept of **Siamese Network** and backpropagation using **Triplet Loss** approach was taken from **FaceNet Paper**, where it was immensely used for embedding of faces, where each face of the persons were pass through the model which gives 128 dimensional embedding array or an array of **128** values, which in turn compared with positive and negative image to calculate triplet losses and train the network model.\n",
        "\n",
        "Let's go through the approaches stepwise with example:\n",
        "\n",
        "* First we have a Convolutional Neural Network(CNN) Model\n",
        "\n",
        "* Corresponding to each example there are three examples:\n",
        "\n",
        " 1. person1_image1.jpg(Anchor example)\n",
        " 2. person1_image2.jpg(Positive example)\n",
        " 3. person2_image3.jpg(Negative example)\n",
        "\n",
        " ## **Siamese Network**\n",
        "\n",
        " * All the three images are passed through the model and we get three embedding for the three images(Anchor, Positive, Negative) corresponding to each example.\n",
        " * The three instances of the EmbedddingModel from the three images are shared instances of same model, i.e parameters are shared and are updated for the three paths simultaneously.\n",
        "\n",
        "\n",
        "\n",
        "\n",
        "\n",
        "\n"
      ]
    },
    {
      "cell_type": "markdown",
      "metadata": {
        "id": "bG_0fB-YespO"
      },
      "source": [
        "# Loading Dataset"
      ]
    },
    {
      "cell_type": "markdown",
      "metadata": {
        "id": "sCgvjRIOezR9"
      },
      "source": [
        "For this Siamese network training we are using Mnist dataset of Keras."
      ]
    },
    {
      "cell_type": "code",
      "metadata": {
        "id": "L8BUnw0zQZlx",
        "outputId": "259c22bb-0f83-4af9-df81-51d01e092aa5",
        "colab": {
          "base_uri": "https://localhost:8080/",
          "height": 119
        }
      },
      "source": [
        "(x_train, y_train), (x_test, y_test) = tf.keras.datasets.mnist.load_data()\n",
        "print('Dataset shape \\nTrain input: {0}\\nTrain output: {1}\\nTest input: {2}\\nTest output: {3}\\n'.format(x_train.shape, y_train.shape, x_test.shape, y_test.shape))"
      ],
      "execution_count": 165,
      "outputs": [
        {
          "output_type": "stream",
          "text": [
            "Dataset shape \n",
            "Train input: (60000, 28, 28)\n",
            "Train output: (60000,)\n",
            "Test input: (10000, 28, 28)\n",
            "Test output: (10000,)\n",
            "\n"
          ],
          "name": "stdout"
        }
      ]
    },
    {
      "cell_type": "markdown",
      "metadata": {
        "id": "kJNsUAWOhn1x"
      },
      "source": [
        "# Data Visualization"
      ]
    },
    {
      "cell_type": "code",
      "metadata": {
        "id": "uljyTFXdfGhr",
        "outputId": "f35935bb-5055-42ff-d2fd-29a8b74634bf",
        "colab": {
          "base_uri": "https://localhost:8080/",
          "height": 443
        }
      },
      "source": [
        "# plotting example images before creating batched of triplets\n",
        "\n",
        "def plot_example(x, y, suptitle):\n",
        "  fig = plt.figure(figsize = (10,3))\n",
        "  fig.suptitle(suptitle)\n",
        "  for i in range(3):\n",
        "    plt.subplot(1, 3, i+1)\n",
        "    # gray scale means max pixel val = 128\n",
        "    # bnary means, pixel>threshold = 1, else 0\n",
        "    plt.imshow(np.squeeze(x[i]), cmap = 'binary')\n",
        "    plt.xticks([])             \n",
        "    plt.yticks([])\n",
        "    plt.xlabel('Label: {0}'.format(y[i]))\n",
        "\n",
        "plot_example(x_train, y_train, 'Training examples')\n",
        "plot_example(x_test, y_test, 'Testing examples')"
      ],
      "execution_count": 166,
      "outputs": [
        {
          "output_type": "display_data",
          "data": {
            "image/png": "[encoded data removed]",
            "text/plain": [
              "<Figure size 720x216 with 3 Axes>"
            ]
          },
          "metadata": {
            "tags": []
          }
        },
        {
          "output_type": "display_data",
          "data": {
            "image/png": "[encoded data removed]",
            "text/plain": [
              "<Figure size 720x216 with 3 Axes>"
            ]
          },
          "metadata": {
            "tags": []
          }
        }
      ]
    },
    {
      "cell_type": "code",
      "metadata": {
        "id": "39m4nY6qnsYt",
        "outputId": "dc7d5067-c7b1-4d6d-a716-c8be8fed64a5",
        "colab": {
          "base_uri": "https://localhost:8080/",
          "height": 68
        }
      },
      "source": [
        "# reshaping the inputs\n",
        "\n",
        "x_train = x_train.reshape(x_train.shape[0], 784)/256\n",
        "x_test = x_test.reshape(x_test.shape[0], 784)/256\n",
        "print('After reshaping:\\n{0}\\n{1}'.format(x_train.shape, x_test.shape))"
      ],
      "execution_count": 167,
      "outputs": [
        {
          "output_type": "stream",
          "text": [
            "After reshaping:\n",
            "(60000, 784)\n",
            "(10000, 784)\n"
          ],
          "name": "stdout"
        }
      ]
    },
    {
      "cell_type": "markdown",
      "metadata": {
        "id": "5JjpN-xxlfzf"
      },
      "source": [
        "# Creating Triplet Batches"
      ]
    },
    {
      "cell_type": "code",
      "metadata": {
        "id": "AMHn_cS2iUHj"
      },
      "source": [
        "def create_batch(batch_size = 256):\n",
        "  # initializing the matrices\n",
        "  # passing shapes as tuples\n",
        "  x_anchors = np.zeros((batch_size, 784))\n",
        "  x_positives = np.zeros((batch_size, 784))\n",
        "  x_negatives = np.zeros((batch_size, 784))\n",
        "\n",
        "  for i in range(batch_size):\n",
        "    # we need to find triplets\n",
        "    index_anchor = random.randint(0, x_train.shape[0]-1)\n",
        "    x_anchors[i] = x_train[index_anchor]\n",
        "\n",
        "    # fetching positive indices\n",
        "    indices_positive = np.squeeze(np.where(y_train == y_train[index_anchor]))\n",
        "    # fetching negative indices\n",
        "    indices_negative = np.squeeze(np.where(y_train != y_train[index_anchor]))\n",
        "\n",
        "    x_positives[i] = x_train[indices_positive[random.randint(0,len(indices_positive)-1)]]\n",
        "    x_negatives[i] = x_train[indices_negative[random.randint(0,len(indices_negative)-1)]]\n",
        "\n",
        "  # here three ndarrays(3, 784) are concatenated in a list\n",
        "  # say, for 4 batches, length of list will remain 3, as length of each anchors, positive, negative array changes with batch size\n",
        "  # but list elements remain 3\n",
        "  # shape of concatenated lis = (3, batch_size, 784) \n",
        "  return [x_anchors, x_positives, x_negatives]  "
      ],
      "execution_count": 168,
      "outputs": []
    },
    {
      "cell_type": "markdown",
      "metadata": {
        "id": "FNKdV_Io1Emq"
      },
      "source": [
        "## Sample Triplets Visualization"
      ]
    },
    {
      "cell_type": "code",
      "metadata": {
        "id": "TnMUbiSYq1Y_",
        "outputId": "64f813be-f60c-4471-c693-2d1b01cf5765",
        "colab": {
          "base_uri": "https://localhost:8080/",
          "height": 842
        }
      },
      "source": [
        "# creating 3 batches of triplets\n",
        "no_batches = 4\n",
        "example = create_batch(no_batches)\n",
        "print('Triplet batches visualization')\n",
        "for i in range(no_batches):\n",
        "  fig = plt.figure(figsize=(10,3))\n",
        "  fig.suptitle('Batch '+str(i+1))\n",
        "  for j in range(3):\n",
        "    plt.subplot(1,3, j+1)\n",
        "    plt.imshow(example[j][i].reshape(28,28))\n",
        "    plt.xticks([])\n",
        "    plt.yticks([])\n",
        "\n"
      ],
      "execution_count": 169,
      "outputs": [
        {
          "output_type": "stream",
          "text": [
            "Triplet batches visualization\n"
          ],
          "name": "stdout"
        },
        {
          "output_type": "display_data",
          "data": {
            "image/png": "[encoded data removed]",
            "text/plain": [
              "<Figure size 720x216 with 3 Axes>"
            ]
          },
          "metadata": {
            "tags": []
          }
        },
        {
          "output_type": "display_data",
          "data": {
            "image/png": "[encoded data removed]",
            "text/plain": [
              "<Figure size 720x216 with 3 Axes>"
            ]
          },
          "metadata": {
            "tags": []
          }
        },
        {
          "output_type": "display_data",
          "data": {
            "image/png": "[encoded data removed]",
            "text/plain": [
              "<Figure size 720x216 with 3 Axes>"
            ]
          },
          "metadata": {
            "tags": []
          }
        },
        {
          "output_type": "display_data",
          "data": {
            "image/png": "[encoded data removed]",
            "text/plain": [
              "<Figure size 720x216 with 3 Axes>"
            ]
          },
          "metadata": {
            "tags": []
          }
        }
      ]
    },
    {
      "cell_type": "markdown",
      "metadata": {
        "id": "QM6mVxVH1RHm"
      },
      "source": [
        "# Embedding Model"
      ]
    },
    {
      "cell_type": "code",
      "metadata": {
        "id": "AEmTl-FwxILk",
        "outputId": "2d9d6fcb-926b-43c3-9642-1c78f99861f6",
        "colab": {
          "base_uri": "https://localhost:8080/",
          "height": 510
        }
      },
      "source": [
        "# let us consider embedding size = 64\n",
        "\n",
        "embed_size = 64\n",
        "\n",
        "embedding_model = tf.keras.models.Sequential([tf.keras.layers.Dense(64, activation='relu', input_shape = (784,)),\n",
        "                                              tf.keras.layers.Dense(embed_size, activation='sigmoid')])\n",
        "\n",
        "print('Embedding Model Summary\\n')\n",
        "embedding_model.summary()\n",
        "plot_model(embedding_model)"
      ],
      "execution_count": 170,
      "outputs": [
        {
          "output_type": "stream",
          "text": [
            "Embedding Model Summary\n",
            "\n",
            "Model: \"sequential_1\"\n",
            "_________________________________________________________________\n",
            "Layer (type)                 Output Shape              Param #   \n",
            "=================================================================\n",
            "dense_2 (Dense)              (None, 64)                50240     \n",
            "_________________________________________________________________\n",
            "dense_3 (Dense)              (None, 64)                4160      \n",
            "=================================================================\n",
            "Total params: 54,400\n",
            "Trainable params: 54,400\n",
            "Non-trainable params: 0\n",
            "_________________________________________________________________\n"
          ],
          "name": "stdout"
        },
        {
          "output_type": "execute_result",
          "data": {
            "image/png": "[encoded data removed]",
            "text/plain": [
              "<IPython.core.display.Image object>"
            ]
          },
          "metadata": {
            "tags": []
          },
          "execution_count": 170
        }
      ]
    },
    {
      "cell_type": "markdown",
      "metadata": {
        "id": "aelv483d2VIx"
      },
      "source": [
        "# Siamese Network"
      ]
    },
    {
      "cell_type": "code",
      "metadata": {
        "id": "G5mYfURpy2rN",
        "outputId": "261d2a05-b611-4d92-d2e7-9a0dc18d419a",
        "colab": {
          "base_uri": "https://localhost:8080/",
          "height": 680
        }
      },
      "source": [
        "input_anchor = tf.keras.layers.Input(shape=(784,))\n",
        "input_positive = tf.keras.layers.Input(shape=(784,))\n",
        "input_negative = tf.keras.layers.Input(shape=(784,))\n",
        "\n",
        "# the model object can take input layer argument\n",
        "embedding_anchor = embedding_model(input_anchor)\n",
        "embedding_positive = embedding_model(input_positive)\n",
        "embedding_negative = embedding_model(input_negative)\n",
        "\n",
        "output = tf.keras.layers.concatenate([embedding_anchor, embedding_positive, embedding_negative], axis = 1)\n",
        "\n",
        "net = tf.keras.models.Model([input_anchor, input_positive, input_negative], output)\n",
        "\n",
        "print('Siamese Network Summary\\n')\n",
        "net.summary()\n",
        "plot_model(net)"
      ],
      "execution_count": 233,
      "outputs": [
        {
          "output_type": "stream",
          "text": [
            "Siamese Network Summary\n",
            "\n",
            "Model: \"functional_5\"\n",
            "__________________________________________________________________________________________________\n",
            "Layer (type)                    Output Shape         Param #     Connected to                     \n",
            "==================================================================================================\n",
            "input_7 (InputLayer)            [(None, 784)]        0                                            \n",
            "__________________________________________________________________________________________________\n",
            "input_8 (InputLayer)            [(None, 784)]        0                                            \n",
            "__________________________________________________________________________________________________\n",
            "input_9 (InputLayer)            [(None, 784)]        0                                            \n",
            "__________________________________________________________________________________________________\n",
            "sequential_1 (Sequential)       (None, 64)           54400       input_7[0][0]                    \n",
            "                                                                 input_8[0][0]                    \n",
            "                                                                 input_9[0][0]                    \n",
            "__________________________________________________________________________________________________\n",
            "concatenate_2 (Concatenate)     (None, 192)          0           sequential_1[3][0]               \n",
            "                                                                 sequential_1[4][0]               \n",
            "                                                                 sequential_1[5][0]               \n",
            "==================================================================================================\n",
            "Total params: 54,400\n",
            "Trainable params: 54,400\n",
            "Non-trainable params: 0\n",
            "__________________________________________________________________________________________________\n"
          ],
          "name": "stdout"
        },
        {
          "output_type": "execute_result",
          "data": {
            "image/png": "[encoded data removed]",
            "text/plain": [
              "<IPython.core.display.Image object>"
            ]
          },
          "metadata": {
            "tags": []
          },
          "execution_count": 233
        }
      ]
    },
    {
      "cell_type": "markdown",
      "metadata": {
        "id": "eSOUgbJqv95b"
      },
      "source": [
        "# Triplet Loss\n",
        "\n",
        "A loss function that tries to pull the Embeddings of Anchor and Positive Examples closer, and tries to push the Embeddings of Anchor and Negative Examples away from each other.\n",
        "\n",
        "Root mean square difference between Anchor and Positive examples in a batch of N images is:\n",
        "$\n",
        "\\begin{equation}\n",
        "d_p = \\sqrt{\\frac{\\sum_{i=0}^{N-1}(f(a_i) - f(p_i))^2}{N}}\n",
        "\\end{equation}\n",
        "$\n",
        "\n",
        "Root mean square difference between Anchor and Negative examples in a batch of N images is:\n",
        "$\n",
        "\\begin{equation}\n",
        "d_n = \\sqrt{\\frac{\\sum_{i=0}^{N-1}(f(a_i) - f(n_i))^2}{N}}\n",
        "\\end{equation}\n",
        "$\n",
        "\n",
        "For each example, we want:\n",
        "$\n",
        "\\begin{equation}\n",
        "d_p \\leq d_n\n",
        "\\end{equation}\n",
        "$\n",
        "\n",
        "Therefore,\n",
        "$\n",
        "\\begin{equation}\n",
        "d_p - d_n \\leq 0\n",
        "\\end{equation}\n",
        "$\n",
        "\n",
        "This condition is quite easily satisfied during the training.\n",
        "\n",
        "We will make it non-trivial by adding a margin (alpha):\n",
        "$\n",
        "\\begin{equation}\n",
        "d_p - d_n + \\alpha \\leq 0\n",
        "\\end{equation}\n",
        "$\n",
        "\n",
        "Given the condition above, the Triplet Loss L is defined as:\n",
        "$\n",
        "\\begin{equation}\n",
        "L = max(d_p - d_n + \\alpha, 0)\n",
        "\\end{equation}\n",
        "$"
      ]
    },
    {
      "cell_type": "code",
      "metadata": {
        "id": "h6QMHLa98ov5"
      },
      "source": [
        "# choosing the margin hyperparameter to be 0.2\n",
        "alpha = 0.2\n",
        "\n",
        "def triplet_loss(y_true, y_pred):\n",
        "  anchor, positive, negative = y_pred[:,:embed_size],y_pred[:,embed_size:2*embed_size],y_pred[:,2*embed_size:]\n",
        "  positive_dist = tf.reduce_mean(tf.square(tf.subtract(anchor, positive)), axis = 1)\n",
        "  negative_dist = tf.reduce_mean(tf.square(tf.subtract(anchor, negative)), axis = 1)\n",
        "  diff = tf.subtract(positive_dist, negative_dist)\n",
        "  loss = tf.maximum(diff + alpha, 0)\n",
        "\n",
        "  return loss"
      ],
      "execution_count": 172,
      "outputs": []
    },
    {
      "cell_type": "code",
      "metadata": {
        "id": "oJsYWZ8IjHVJ"
      },
      "source": [
        "def data_generator(batch_size=256):\n",
        "    while True:\n",
        "        x = create_batch(batch_size)\n",
        "        y = np.zeros((batch_size, 3*embed_size))\n",
        "        yield x, y"
      ],
      "execution_count": 173,
      "outputs": []
    },
    {
      "cell_type": "markdown",
      "metadata": {
        "id": "P7okFe7kc8Yi"
      },
      "source": [
        "# Model Training"
      ]
    },
    {
      "cell_type": "markdown",
      "metadata": {
        "id": "erQDb5BYiRTg"
      },
      "source": [
        "Adam optimizer is used here"
      ]
    },
    {
      "cell_type": "code",
      "metadata": {
        "id": "_cESDCHDbV8A",
        "outputId": "2f3ec57b-9b79-49d5-d359-f34095a3291e",
        "colab": {
          "base_uri": "https://localhost:8080/",
          "height": 636
        }
      },
      "source": [
        "net.compile(optimizer=Adam(lr=0.001), loss = triplet_loss)\n",
        "\n",
        "batch_size = 2048\n",
        "steps_per_epoch = int(x_train.shape[0]/batch_size)\n",
        "\n",
        "history = net.fit(data_generator(batch_size=batch_size),\n",
        "                  steps_per_epoch=steps_per_epoch,\n",
        "                  epochs = 10,\n",
        "                  verbose = 1,\n",
        "                  callbacks = [PlotLossesCallback()]\n",
        "                  )"
      ],
      "execution_count": 193,
      "outputs": [
        {
          "output_type": "display_data",
          "data": {
            "image/png": "[encoded data removed]",
            "text/plain": [
              "<Figure size 864x576 with 2 Axes>"
            ]
          },
          "metadata": {
            "tags": [],
            "needs_background": "light"
          }
        },
        {
          "output_type": "stream",
          "text": [
            "Loss\n",
            "\tloss             \t (min:    0.015, max:    0.027, cur:    0.015)\n",
            "\b\b\b\b\b\b\b\b\b\b\b\b\b\b\b\b\b\b\b\b\b\b\b\b\b\b\b\b\b\b\b\b\b\b\b\b\b\b\b\b\b\b\b\b\b\b\b\b\b\b\b\b\b\b\b\b\b\b\b\b\b\b\b\r29/29 [==============================] - 26s 886ms/step - loss: 0.0154\n"
          ],
          "name": "stdout"
        }
      ]
    },
    {
      "cell_type": "markdown",
      "metadata": {
        "id": "U7v0D8ROiS4a"
      },
      "source": [
        "**Note: When to use yield instead of return in Python?**\n",
        "\n",
        "The yield statement suspends function’s execution and sends a value back to the caller, but retains enough state to enable function to resume where it is left off. When resumed, the function continues execution immediately after the last yield run. This allows its code to produce a series of values over time, rather than computing them at once and sending them back like a list.\n",
        "\n",
        "Let’s see with an example:\n",
        "\n",
        "filter_none\n",
        "edit\n",
        "play_arrow\n",
        "\n",
        "brightness_4\n",
        "\n",
        "'''\n",
        "def simpleGeneratorFun(): \n",
        "\n",
        "    yield 1\n",
        "    yield 2\n",
        "    yield 3\n",
        "'''  \n",
        "for value in simpleGeneratorFun():  \n",
        "    print(value) \n",
        "Output:\n",
        "\n",
        "1\n",
        "2\n",
        "3\n",
        "Return sends a specified value back to its caller whereas Yield can produce a sequence of values. We should use yield when we want to iterate over a sequence, but don’t want to store the entire sequence in memory.\n",
        "\n",
        "Yield are used in Python generators. A generator function is defined like a normal function, but whenever it needs to generate a value, it does so with the yield keyword rather than return. If the body of a def contains yield, the function automatically becomes a generator function.\n",
        "\n"
      ]
    },
    {
      "cell_type": "markdown",
      "metadata": {
        "id": "-Q78MoEf65Qr"
      },
      "source": [
        "# Visualizing Result of The Trained Model\n",
        "\n"
      ]
    },
    {
      "cell_type": "markdown",
      "metadata": {
        "id": "B40GS0hb7A4I"
      },
      "source": [
        "## Generating encoding database for digits recognition"
      ]
    },
    {
      "cell_type": "code",
      "metadata": {
        "id": "Xp1udHc0dWV9",
        "outputId": "ae71541c-2161-499a-cbac-0a3d815a758b",
        "colab": {
          "base_uri": "https://localhost:8080/",
          "height": 51
        }
      },
      "source": [
        "# storing indices from test dataset\n",
        "indices = np.zeros(10)\n",
        "\n",
        "for i in range(10):\n",
        "  indices[i] = np.squeeze(np.where(y_test == i))[0]\n",
        "\n",
        "print('1st index of all types of digits in the test data are:\\n',indices)"
      ],
      "execution_count": 194,
      "outputs": [
        {
          "output_type": "stream",
          "text": [
            "1st index of all types of digits in the test data are:\n",
            " [ 3.  2.  1. 18.  4.  8. 11.  0. 61.  7.]\n"
          ],
          "name": "stdout"
        }
      ]
    },
    {
      "cell_type": "code",
      "metadata": {
        "id": "Msky0ntje7P0",
        "outputId": "b1ae5a20-821e-4a22-82cf-a7c9628e4c72",
        "colab": {
          "base_uri": "https://localhost:8080/",
          "height": 230
        }
      },
      "source": [
        "# Visualizing embedding database images\n",
        "fig = plt.figure(figsize=(10,3))\n",
        "fig.suptitle('Database images')\n",
        "for i in range(10):\n",
        "  plt.subplot(2,5,i+1)\n",
        "  plt.imshow(x_test[int(indices[i])].reshape(28,28))\n",
        "  plt.xticks([])\n",
        "  plt.yticks([])\n",
        "  plt.xlabel('Label: {0}'.format(y_test[int(indices[i])]))\n",
        "plt.show()"
      ],
      "execution_count": 227,
      "outputs": [
        {
          "output_type": "display_data",
          "data": {
            "image/png": "[encoded data removed]",
            "text/plain": [
              "<Figure size 720x216 with 10 Axes>"
            ]
          },
          "metadata": {
            "tags": []
          }
        }
      ]
    },
    {
      "cell_type": "markdown",
      "metadata": {
        "id": "kENTqvgl9lOp"
      },
      "source": [
        "After training the weights of the embedding model are tuned to embed the input images"
      ]
    },
    {
      "cell_type": "code",
      "metadata": {
        "id": "eNkPzMGq9knW"
      },
      "source": [
        "def embed_image(image):\n",
        "  image = image.reshape(1,784)\n",
        "  out = embedding_model.predict(image)\n",
        "  return out"
      ],
      "execution_count": 228,
      "outputs": []
    },
    {
      "cell_type": "markdown",
      "metadata": {
        "id": "GK_mPe2mDP7K"
      },
      "source": [
        "Storing the encoding of all types of digits in a dictionary"
      ]
    },
    {
      "cell_type": "code",
      "metadata": {
        "id": "v9E4O_0io6iT"
      },
      "source": [
        "# Storing the encoding of all types of digits in a dictionary\n",
        "database = {}\n",
        "for i in range(10):\n",
        "  database[i] = embed_image(x_test[int(indices[i])])"
      ],
      "execution_count": 229,
      "outputs": []
    },
    {
      "cell_type": "markdown",
      "metadata": {
        "id": "873kCPJjDUMy"
      },
      "source": [
        "* We have encoded database of 10 different types of digits\n",
        "* Let's pass random images of 10 digits and check whether they can recognize or not\n",
        "\n",
        "* Choicing a random element from each individual digit indices list"
      ]
    },
    {
      "cell_type": "code",
      "metadata": {
        "id": "EK_kxawmtD_r"
      },
      "source": [
        "# we have encoded database of 10 different types of digits\n",
        "# let's pass random images of 10 digits and check whether they can recognize or not\n",
        "\n",
        "# choicing a random element from each individual digit indices list\n",
        "random_indices = [random.choice(np.squeeze(np.where(y_test == i))[1:]) for i in range(10)]"
      ],
      "execution_count": 211,
      "outputs": []
    },
    {
      "cell_type": "markdown",
      "metadata": {
        "id": "VCWIDp4EDMDn"
      },
      "source": [
        "Storing the encoding of all types of random test digits in a dictionary"
      ]
    },
    {
      "cell_type": "code",
      "metadata": {
        "id": "uRTVw70rtO1p"
      },
      "source": [
        "# Storing the encoding of all types of random test digits in a dictionary\n",
        "test_database = {}\n",
        "for i in range(10):\n",
        "  test_database[i] = embed_image(x_test[int(random_indices[i])])"
      ],
      "execution_count": 212,
      "outputs": []
    },
    {
      "cell_type": "markdown",
      "metadata": {
        "id": "1e-Szp9qD3ED"
      },
      "source": [
        "#### Digits Recognition"
      ]
    },
    {
      "cell_type": "markdown",
      "metadata": {
        "id": "DYNtPUdQIrzn"
      },
      "source": [
        "* For difference checking the final training loass 0.03 is taken as marginal value \n",
        "* Threshold value = 0.03"
      ]
    },
    {
      "cell_type": "code",
      "metadata": {
        "id": "a2OVi3W2tcgZ"
      },
      "source": [
        "def recognizer(encoding, threshold):\n",
        "  # for difference checking the final training loass 0.03 is taken as marginal value  \n",
        "  diff_list = [tf.reduce_mean(tf.square(tf.subtract(database[i],encoding)), axis=1) for i in range(10)]\n",
        "  # threshold value = 0.03/0.07\n",
        "  if min(diff_list) < threshold:\n",
        "    return diff_list.index(min(diff_list))\n",
        "  else:\n",
        "    return diff_list, diff_list.index(min(diff_list))"
      ],
      "execution_count": 213,
      "outputs": []
    },
    {
      "cell_type": "code",
      "metadata": {
        "id": "bmx385ugtosy",
        "outputId": "ac2f07d4-151e-4487-c92d-9ca6ff711683",
        "colab": {
          "base_uri": "https://localhost:8080/",
          "height": 697
        }
      },
      "source": [
        "# prediction list\n",
        "threshold = 0.03\n",
        "pred_list1 = [recognizer(test_database[i], threshold) for i in range(10)]\n",
        "pred_list1"
      ],
      "execution_count": 214,
      "outputs": [
        {
          "output_type": "execute_result",
          "data": {
            "text/plain": [
              "[0,\n",
              " 1,\n",
              " 2,\n",
              " ([<tf.Tensor: shape=(1,), dtype=float32, numpy=array([0.40238762], dtype=float32)>,\n",
              "   <tf.Tensor: shape=(1,), dtype=float32, numpy=array([0.457076], dtype=float32)>,\n",
              "   <tf.Tensor: shape=(1,), dtype=float32, numpy=array([0.31113595], dtype=float32)>,\n",
              "   <tf.Tensor: shape=(1,), dtype=float32, numpy=array([0.04109093], dtype=float32)>,\n",
              "   <tf.Tensor: shape=(1,), dtype=float32, numpy=array([0.6249939], dtype=float32)>,\n",
              "   <tf.Tensor: shape=(1,), dtype=float32, numpy=array([0.5180167], dtype=float32)>,\n",
              "   <tf.Tensor: shape=(1,), dtype=float32, numpy=array([0.5006275], dtype=float32)>,\n",
              "   <tf.Tensor: shape=(1,), dtype=float32, numpy=array([0.36336797], dtype=float32)>,\n",
              "   <tf.Tensor: shape=(1,), dtype=float32, numpy=array([0.29578912], dtype=float32)>,\n",
              "   <tf.Tensor: shape=(1,), dtype=float32, numpy=array([0.44695807], dtype=float32)>],\n",
              "  3),\n",
              " ([<tf.Tensor: shape=(1,), dtype=float32, numpy=array([0.29628304], dtype=float32)>,\n",
              "   <tf.Tensor: shape=(1,), dtype=float32, numpy=array([0.5513745], dtype=float32)>,\n",
              "   <tf.Tensor: shape=(1,), dtype=float32, numpy=array([0.48978382], dtype=float32)>,\n",
              "   <tf.Tensor: shape=(1,), dtype=float32, numpy=array([0.4589744], dtype=float32)>,\n",
              "   <tf.Tensor: shape=(1,), dtype=float32, numpy=array([0.05455696], dtype=float32)>,\n",
              "   <tf.Tensor: shape=(1,), dtype=float32, numpy=array([0.0989503], dtype=float32)>,\n",
              "   <tf.Tensor: shape=(1,), dtype=float32, numpy=array([0.17908253], dtype=float32)>,\n",
              "   <tf.Tensor: shape=(1,), dtype=float32, numpy=array([0.5541462], dtype=float32)>,\n",
              "   <tf.Tensor: shape=(1,), dtype=float32, numpy=array([0.3783451], dtype=float32)>,\n",
              "   <tf.Tensor: shape=(1,), dtype=float32, numpy=array([0.2423305], dtype=float32)>],\n",
              "  4),\n",
              " ([<tf.Tensor: shape=(1,), dtype=float32, numpy=array([0.29583496], dtype=float32)>,\n",
              "   <tf.Tensor: shape=(1,), dtype=float32, numpy=array([0.54459804], dtype=float32)>,\n",
              "   <tf.Tensor: shape=(1,), dtype=float32, numpy=array([0.5061765], dtype=float32)>,\n",
              "   <tf.Tensor: shape=(1,), dtype=float32, numpy=array([0.19485517], dtype=float32)>,\n",
              "   <tf.Tensor: shape=(1,), dtype=float32, numpy=array([0.46914962], dtype=float32)>,\n",
              "   <tf.Tensor: shape=(1,), dtype=float32, numpy=array([0.27561665], dtype=float32)>,\n",
              "   <tf.Tensor: shape=(1,), dtype=float32, numpy=array([0.37817702], dtype=float32)>,\n",
              "   <tf.Tensor: shape=(1,), dtype=float32, numpy=array([0.58668214], dtype=float32)>,\n",
              "   <tf.Tensor: shape=(1,), dtype=float32, numpy=array([0.2140663], dtype=float32)>,\n",
              "   <tf.Tensor: shape=(1,), dtype=float32, numpy=array([0.36266428], dtype=float32)>],\n",
              "  3),\n",
              " 6,\n",
              " 7,\n",
              " 8,\n",
              " 9]"
            ]
          },
          "metadata": {
            "tags": []
          },
          "execution_count": 214
        }
      ]
    },
    {
      "cell_type": "markdown",
      "metadata": {
        "id": "K3ocD_gyK-zv"
      },
      "source": [
        "\n",
        "\n",
        "* At threshold = 0.07"
      ]
    },
    {
      "cell_type": "code",
      "metadata": {
        "id": "TfXr3J1Ct_Z6",
        "outputId": "c8599501-5c07-4a5e-ae8c-d1576b81301f",
        "colab": {
          "base_uri": "https://localhost:8080/",
          "height": 357
        }
      },
      "source": [
        "# prediction list\n",
        "threshold = 0.07\n",
        "pred_list2 = [recognizer(test_database[i], threshold) for i in range(10)]\n",
        "pred_list2"
      ],
      "execution_count": 215,
      "outputs": [
        {
          "output_type": "execute_result",
          "data": {
            "text/plain": [
              "[0,\n",
              " 1,\n",
              " 2,\n",
              " 3,\n",
              " 4,\n",
              " ([<tf.Tensor: shape=(1,), dtype=float32, numpy=array([0.29583496], dtype=float32)>,\n",
              "   <tf.Tensor: shape=(1,), dtype=float32, numpy=array([0.54459804], dtype=float32)>,\n",
              "   <tf.Tensor: shape=(1,), dtype=float32, numpy=array([0.5061765], dtype=float32)>,\n",
              "   <tf.Tensor: shape=(1,), dtype=float32, numpy=array([0.19485517], dtype=float32)>,\n",
              "   <tf.Tensor: shape=(1,), dtype=float32, numpy=array([0.46914962], dtype=float32)>,\n",
              "   <tf.Tensor: shape=(1,), dtype=float32, numpy=array([0.27561665], dtype=float32)>,\n",
              "   <tf.Tensor: shape=(1,), dtype=float32, numpy=array([0.37817702], dtype=float32)>,\n",
              "   <tf.Tensor: shape=(1,), dtype=float32, numpy=array([0.58668214], dtype=float32)>,\n",
              "   <tf.Tensor: shape=(1,), dtype=float32, numpy=array([0.2140663], dtype=float32)>,\n",
              "   <tf.Tensor: shape=(1,), dtype=float32, numpy=array([0.36266428], dtype=float32)>],\n",
              "  3),\n",
              " 6,\n",
              " 7,\n",
              " 8,\n",
              " 9]"
            ]
          },
          "metadata": {
            "tags": []
          },
          "execution_count": 215
        }
      ]
    },
    {
      "cell_type": "markdown",
      "metadata": {
        "id": "bH4sVqh7PaEP"
      },
      "source": [
        "# Discussion on Threshold Value\n",
        "\n",
        "* At threshold = 0.03 and 0.07, some of the results are not satisfying the threshold.\n",
        "* But still if we consider the min value in the difference list, the result is correct.\n",
        "* So, considering the min_val we are predicting the result, or we can increase the threshold too, but taking min_val also does justice for the problem.\n",
        "* Redefining the recognizer function, which only returns the minimum defference."
      ]
    },
    {
      "cell_type": "code",
      "metadata": {
        "id": "L_btqUoluP_q"
      },
      "source": [
        "# redefining the recognizer function, which only returns the minimum defference \n",
        "def recognizer_min(encoding):\n",
        "  # for difference checking the final training loss 0.03 is taken as marginal value  \n",
        "  diff_list = [tf.reduce_mean(tf.square(tf.subtract(database[i],encoding)), axis=1) for i in range(10)]\n",
        "  return diff_list.index(min(diff_list))"
      ],
      "execution_count": 216,
      "outputs": []
    },
    {
      "cell_type": "code",
      "metadata": {
        "id": "zNCG_VQtuT2q"
      },
      "source": [
        "pred_list_final = [recognizer_min(test_database[i]) for i in range(10)]"
      ],
      "execution_count": 230,
      "outputs": []
    },
    {
      "cell_type": "code",
      "metadata": {
        "id": "xWZC6wyoSL8_",
        "outputId": "1c522c81-6671-412c-ae2d-c73b9bbb3ab5",
        "colab": {
          "base_uri": "https://localhost:8080/",
          "height": 34
        }
      },
      "source": [
        "print(pred_list_final)"
      ],
      "execution_count": 231,
      "outputs": [
        {
          "output_type": "stream",
          "text": [
            "[0, 1, 2, 3, 4, 3, 6, 7, 8, 9]\n"
          ],
          "name": "stdout"
        }
      ]
    },
    {
      "cell_type": "markdown",
      "metadata": {
        "id": "RZ97-XwudTs8"
      },
      "source": [
        "* Among 10 digits, 9 are correctly predicted except 5 has not been correctly predicted.\n",
        "* We need to do some pre-processing techniques or modification in the process for further increase the accuracy"
      ]
    },
    {
      "cell_type": "code",
      "metadata": {
        "id": "nsomfBZ5STUa",
        "outputId": "ea2eb7d7-4083-4c8a-f9ef-cd3a0086d66b",
        "colab": {
          "base_uri": "https://localhost:8080/",
          "height": 34
        }
      },
      "source": [
        "print('Random indices ',random_indices)"
      ],
      "execution_count": 232,
      "outputs": [
        {
          "output_type": "stream",
          "text": [
            "Random indices  [1203, 4869, 5037, 9727, 2319, 2558, 7880, 4083, 7694, 8093]\n"
          ],
          "name": "stdout"
        }
      ]
    },
    {
      "cell_type": "markdown",
      "metadata": {
        "id": "d3johXPkh0He"
      },
      "source": [
        "#### Visualizing prediction result"
      ]
    },
    {
      "cell_type": "code",
      "metadata": {
        "id": "Qa7J92I6ceSn",
        "outputId": "b461db41-ad7d-4617-de3e-08b8bd38d1ae",
        "colab": {
          "base_uri": "https://localhost:8080/",
          "height": 351
        }
      },
      "source": [
        "# Prediction result vis.\n",
        "fig = plt.figure(figsize=(10,5))\n",
        "fig.suptitle('Database images')\n",
        "for i in range(10):\n",
        "  plt.subplot(2,5,i+1)\n",
        "  plt.imshow(x_test[int(random_indices[i])].reshape(28,28))\n",
        "  plt.xticks([])\n",
        "  plt.yticks([])\n",
        "  plt.xlabel('Actual Label: {0}\\nPredicted Label: {1}'.format(y_test[int(random_indices[i])], pred_list_final[i]))\n",
        "plt.show()"
      ],
      "execution_count": 235,
      "outputs": [
        {
          "output_type": "display_data",
          "data": {
            "image/png": "[encoded data removed]",
            "text/plain": [
              "<Figure size 720x360 with 10 Axes>"
            ]
          },
          "metadata": {
            "tags": []
          }
        }
      ]
    },
    {
      "cell_type": "markdown",
      "metadata": {
        "id": "j1o93gtMiu8-"
      },
      "source": [
        "# Conclusion\n",
        "\n",
        "The problem needs more modification, we can try several modifications and try several functional CNN for modiffying performances data pre-processing techniques or hyper-prameter tunings to increase the model accuracy."
      ]
    },
    {
      "cell_type": "code",
      "metadata": {
        "id": "MYN94M62clSl"
      },
      "source": [
        ""
      ],
      "execution_count": null,
      "outputs": []
    }
  ]
}