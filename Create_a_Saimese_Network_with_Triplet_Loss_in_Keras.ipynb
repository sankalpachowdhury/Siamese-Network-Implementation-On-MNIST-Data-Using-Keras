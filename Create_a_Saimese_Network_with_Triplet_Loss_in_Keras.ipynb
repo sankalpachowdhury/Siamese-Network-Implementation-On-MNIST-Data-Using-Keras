{
  "nbformat": 4,
  "nbformat_minor": 0,
  "metadata": {
    "colab": {
      "name": "Create a Saimese Network with Triplet Loss in Keras.ipynb",
      "provenance": [],
      "collapsed_sections": [],
      "toc_visible": true,
      "authorship_tag": "ABX9TyMAAOvGcs5aVSYJP6ZZ0oG6",
      "include_colab_link": true
    },
    "kernelspec": {
      "name": "python3",
      "display_name": "Python 3"
    }
  },
  "cells": [
    {
      "cell_type": "markdown",
      "metadata": {
        "id": "view-in-github",
        "colab_type": "text"
      },
      "source": [
        "<a href=\"https://colab.research.google.com/github/sayan0506/Siamese-Network-Implementation-On-MNIST-Data-Using-Keras-/blob/master/Create_a_Saimese_Network_with_Triplet_Loss_in_Keras.ipynb\" target=\"_parent\"><img src=\"https://colab.research.google.com/assets/colab-badge.svg\" alt=\"Open In Colab\"/></a>"
      ]
    },
    {
      "cell_type": "markdown",
      "metadata": {
        "id": "aGwpgO0oXwe7"
      },
      "source": [
        "#Siamese Network with Triplet Loss implementation using Keras with Mnist Dataset"
      ]
    },
    {
      "cell_type": "markdown",
      "metadata": {
        "id": "LtaBRxXkXshq"
      },
      "source": [
        "#Importing necessary python **modules**"
      ]
    },
    {
      "cell_type": "code",
      "metadata": {
        "id": "aIfpiFIfkr6u",
        "outputId": "e80dcab0-a4e4-4146-b657-43eff9532b1a",
        "colab": {
          "base_uri": "https://localhost:8080/",
          "height": 666
        }
      },
      "source": [
        "# Installing livelossplot module for dynamical plot of model training\n",
        "!pip install git+git://github.com/stared/livelossplot.git"
      ],
      "execution_count": 1,
      "outputs": [
        {
          "output_type": "stream",
          "text": [
            "Collecting git+git://github.com/stared/livelossplot.git\n",
            "  Cloning git://github.com/stared/livelossplot.git to /tmp/pip-req-build-rcw0d57t\n",
            "  Running command git clone -q git://github.com/stared/livelossplot.git /tmp/pip-req-build-rcw0d57t\n",
            "Requirement already satisfied: ipython in /usr/local/lib/python3.6/dist-packages (from livelossplot==0.5.3) (5.5.0)\n",
            "Requirement already satisfied: matplotlib in /usr/local/lib/python3.6/dist-packages (from livelossplot==0.5.3) (3.2.2)\n",
            "Requirement already satisfied: bokeh in /usr/local/lib/python3.6/dist-packages (from livelossplot==0.5.3) (2.1.1)\n",
            "Requirement already satisfied: pexpect; sys_platform != \"win32\" in /usr/local/lib/python3.6/dist-packages (from ipython->livelossplot==0.5.3) (4.8.0)\n",
            "Requirement already satisfied: setuptools>=18.5 in /usr/local/lib/python3.6/dist-packages (from ipython->livelossplot==0.5.3) (50.3.0)\n",
            "Requirement already satisfied: pickleshare in /usr/local/lib/python3.6/dist-packages (from ipython->livelossplot==0.5.3) (0.7.5)\n",
            "Requirement already satisfied: decorator in /usr/local/lib/python3.6/dist-packages (from ipython->livelossplot==0.5.3) (4.4.2)\n",
            "Requirement already satisfied: simplegeneric>0.8 in /usr/local/lib/python3.6/dist-packages (from ipython->livelossplot==0.5.3) (0.8.1)\n",
            "Requirement already satisfied: traitlets>=4.2 in /usr/local/lib/python3.6/dist-packages (from ipython->livelossplot==0.5.3) (4.3.3)\n",
            "Requirement already satisfied: prompt-toolkit<2.0.0,>=1.0.4 in /usr/local/lib/python3.6/dist-packages (from ipython->livelossplot==0.5.3) (1.0.18)\n",
            "Requirement already satisfied: pygments in /usr/local/lib/python3.6/dist-packages (from ipython->livelossplot==0.5.3) (2.6.1)\n",
            "Requirement already satisfied: python-dateutil>=2.1 in /usr/local/lib/python3.6/dist-packages (from matplotlib->livelossplot==0.5.3) (2.8.1)\n",
            "Requirement already satisfied: cycler>=0.10 in /usr/local/lib/python3.6/dist-packages (from matplotlib->livelossplot==0.5.3) (0.10.0)\n",
            "Requirement already satisfied: kiwisolver>=1.0.1 in /usr/local/lib/python3.6/dist-packages (from matplotlib->livelossplot==0.5.3) (1.2.0)\n",
            "Requirement already satisfied: pyparsing!=2.0.4,!=2.1.2,!=2.1.6,>=2.0.1 in /usr/local/lib/python3.6/dist-packages (from matplotlib->livelossplot==0.5.3) (2.4.7)\n",
            "Requirement already satisfied: numpy>=1.11 in /usr/local/lib/python3.6/dist-packages (from matplotlib->livelossplot==0.5.3) (1.18.5)\n",
            "Requirement already satisfied: PyYAML>=3.10 in /usr/local/lib/python3.6/dist-packages (from bokeh->livelossplot==0.5.3) (3.13)\n",
            "Requirement already satisfied: tornado>=5.1 in /usr/local/lib/python3.6/dist-packages (from bokeh->livelossplot==0.5.3) (5.1.1)\n",
            "Requirement already satisfied: pillow>=4.0 in /usr/local/lib/python3.6/dist-packages (from bokeh->livelossplot==0.5.3) (7.0.0)\n",
            "Requirement already satisfied: packaging>=16.8 in /usr/local/lib/python3.6/dist-packages (from bokeh->livelossplot==0.5.3) (20.4)\n",
            "Requirement already satisfied: typing-extensions>=3.7.4 in /usr/local/lib/python3.6/dist-packages (from bokeh->livelossplot==0.5.3) (3.7.4.3)\n",
            "Requirement already satisfied: Jinja2>=2.7 in /usr/local/lib/python3.6/dist-packages (from bokeh->livelossplot==0.5.3) (2.11.2)\n",
            "Requirement already satisfied: ptyprocess>=0.5 in /usr/local/lib/python3.6/dist-packages (from pexpect; sys_platform != \"win32\"->ipython->livelossplot==0.5.3) (0.6.0)\n",
            "Requirement already satisfied: six in /usr/local/lib/python3.6/dist-packages (from traitlets>=4.2->ipython->livelossplot==0.5.3) (1.15.0)\n",
            "Requirement already satisfied: ipython-genutils in /usr/local/lib/python3.6/dist-packages (from traitlets>=4.2->ipython->livelossplot==0.5.3) (0.2.0)\n",
            "Requirement already satisfied: wcwidth in /usr/local/lib/python3.6/dist-packages (from prompt-toolkit<2.0.0,>=1.0.4->ipython->livelossplot==0.5.3) (0.2.5)\n",
            "Requirement already satisfied: MarkupSafe>=0.23 in /usr/local/lib/python3.6/dist-packages (from Jinja2>=2.7->bokeh->livelossplot==0.5.3) (1.1.1)\n",
            "Building wheels for collected packages: livelossplot\n",
            "  Building wheel for livelossplot (setup.py) ... \u001b[?25l\u001b[?25hdone\n",
            "  Created wheel for livelossplot: filename=livelossplot-0.5.3-cp36-none-any.whl size=22611 sha256=47d928d9027f451f80f2aa0ba6af76c390a052d931d678fc05a9a8fa4523982a\n",
            "  Stored in directory: /tmp/pip-ephem-wheel-cache-1llsc7tf/wheels/77/01/ea/cef3581d9c77ece0fd685cc3eb1cd92dc68d8117b361ac65dc\n",
            "Successfully built livelossplot\n",
            "Installing collected packages: livelossplot\n",
            "Successfully installed livelossplot-0.5.3\n"
          ],
          "name": "stdout"
        }
      ]
    },
    {
      "cell_type": "code",
      "metadata": {
        "id": "nsNuT_YAQNSz",
        "outputId": "43a821c0-7144-4a90-888b-a49735355ab5",
        "colab": {
          "base_uri": "https://localhost:8080/",
          "height": 34
        }
      },
      "source": [
        "import tensorflow as tf\n",
        "from matplotlib import pyplot as plt\n",
        "import numpy as np\n",
        "import random\n",
        "from tensorflow import keras\n",
        "from keras.utils.vis_utils import plot_model\n",
        "from keras.optimizers import Adam\n",
        "from livelossplot.tf_keras import  PlotLossesCallback\n",
        "\n",
        "print('Tensorflow version: ',tf.version.VERSION)"
      ],
      "execution_count": 2,
      "outputs": [
        {
          "output_type": "stream",
          "text": [
            "Tensorflow version:  2.3.0\n"
          ],
          "name": "stdout"
        }
      ]
    },
    {
      "cell_type": "markdown",
      "metadata": {
        "id": "GttC3qwkYvA7"
      },
      "source": [
        "# Siamese Network Approach"
      ]
    },
    {
      "cell_type": "markdown",
      "metadata": {
        "id": "dMKJ1JwZY2pD"
      },
      "source": [
        "The concept of **Siamese Network** and backpropagation using **Triplet Loss** approach was taken from **FaceNet Paper**, where it was immensely used for embedding of faces, where each face of the persons were pass through the model which gives 128 dimensional embedding array or an array of **128** values, which in turn compared with positive and negative image to calculate triplet losses and train the network model.\n",
        "\n",
        "Let's go through the approaches stepwise with example:\n",
        "\n",
        "* First we have a Convolutional Neural Network(CNN) Model\n",
        "\n",
        "* Corresponding to each example there are three examples:\n",
        "\n",
        " 1. person1_image1.jpg(Anchor example)\n",
        " 2. person1_image2.jpg(Positive example)\n",
        " 3. person2_image3.jpg(Negative example)\n",
        "\n",
        " ## **Siamese Network**\n",
        "\n",
        " * All the three images are passed through the model and we get three embedding for the three images(Anchor, Positive, Negative) corresponding to each example.\n",
        " * The three instances of the EmbedddingModel from the three images are shared instances of same model, i.e parameters are shared and are updated for the three paths simultaneously.\n",
        "\n",
        "\n",
        "\n",
        "\n",
        "\n",
        "\n"
      ]
    },
    {
      "cell_type": "markdown",
      "metadata": {
        "id": "bG_0fB-YespO"
      },
      "source": [
        "# Loading Dataset"
      ]
    },
    {
      "cell_type": "markdown",
      "metadata": {
        "id": "sCgvjRIOezR9"
      },
      "source": [
        "For this Siamese network training we are using Mnist dataset of Keras."
      ]
    },
    {
      "cell_type": "code",
      "metadata": {
        "id": "L8BUnw0zQZlx",
        "outputId": "6e346da6-5c89-4e0b-afe4-4591a6ef7af5",
        "colab": {
          "base_uri": "https://localhost:8080/",
          "height": 153
        }
      },
      "source": [
        "(x_train, y_train), (x_test, y_test) = tf.keras.datasets.mnist.load_data()\n",
        "print('Dataset shape \\nTrain input: {0}\\nTrain output: {1}\\nTest input: {2}\\nTest output: {3}\\n'.format(x_train.shape, y_train.shape, x_test.shape, y_test.shape))"
      ],
      "execution_count": 3,
      "outputs": [
        {
          "output_type": "stream",
          "text": [
            "Downloading data from https://storage.googleapis.com/tensorflow/tf-keras-datasets/mnist.npz\n",
            "11493376/11490434 [==============================] - 0s 0us/step\n",
            "Dataset shape \n",
            "Train input: (60000, 28, 28)\n",
            "Train output: (60000,)\n",
            "Test input: (10000, 28, 28)\n",
            "Test output: (10000,)\n",
            "\n"
          ],
          "name": "stdout"
        }
      ]
    },
    {
      "cell_type": "markdown",
      "metadata": {
        "id": "kJNsUAWOhn1x"
      },
      "source": [
        "# Data Visualization"
      ]
    },
    {
      "cell_type": "code",
      "metadata": {
        "id": "uljyTFXdfGhr",
        "outputId": "0a4de247-f830-44c1-a3e4-2a5bfee794d1",
        "colab": {
          "base_uri": "https://localhost:8080/",
          "height": 443
        }
      },
      "source": [
        "# plotting example images before creating batched of triplets\n",
        "\n",
        "def plot_example(x, y, suptitle):\n",
        "  fig = plt.figure(figsize = (10,3))\n",
        "  fig.suptitle(suptitle)\n",
        "  for i in range(3):\n",
        "    plt.subplot(1, 3, i+1)\n",
        "    # gray scale means max pixel val = 128\n",
        "    # bnary means, pixel>threshold = 1, else 0\n",
        "    plt.imshow(np.squeeze(x[i]), cmap = 'binary')\n",
        "    plt.xticks([])             \n",
        "    plt.yticks([])\n",
        "    plt.xlabel('Label: {0}'.format(y[i]))\n",
        "\n",
        "plot_example(x_train, y_train, 'Training examples')\n",
        "plot_example(x_test, y_test, 'Testing examples')"
      ],
      "execution_count": 4,
      "outputs": [
        {
          "output_type": "display_data",
          "data": {
            "image/png": "[encoded data removed]",
            "text/plain": [
              "<Figure size 720x216 with 3 Axes>"
            ]
          },
          "metadata": {
            "tags": []
          }
        },
        {
          "output_type": "display_data",
          "data": {
            "image/png": "[encoded data removed]",
            "text/plain": [
              "<Figure size 720x216 with 3 Axes>"
            ]
          },
          "metadata": {
            "tags": []
          }
        }
      ]
    },
    {
      "cell_type": "code",
      "metadata": {
        "id": "39m4nY6qnsYt",
        "outputId": "f5850fe5-adbc-4407-d01b-428f55642b8c",
        "colab": {
          "base_uri": "https://localhost:8080/",
          "height": 68
        }
      },
      "source": [
        "# reshaping the inputs\n",
        "\n",
        "x_train = x_train.reshape(x_train.shape[0], 784)/256\n",
        "x_test = x_test.reshape(x_test.shape[0], 784)/256\n",
        "print('After reshaping:\\n{0}\\n{1}'.format(x_train.shape, x_test.shape))"
      ],
      "execution_count": 5,
      "outputs": [
        {
          "output_type": "stream",
          "text": [
            "After reshaping:\n",
            "(60000, 784)\n",
            "(10000, 784)\n"
          ],
          "name": "stdout"
        }
      ]
    },
    {
      "cell_type": "markdown",
      "metadata": {
        "id": "5JjpN-xxlfzf"
      },
      "source": [
        "# Creating Triplet Batches"
      ]
    },
    {
      "cell_type": "code",
      "metadata": {
        "id": "AMHn_cS2iUHj"
      },
      "source": [
        "def create_batch(batch_size = 256):\n",
        "  # initializing the matrices\n",
        "  # passing shapes as tuples\n",
        "  x_anchors = np.zeros((batch_size, 784))\n",
        "  x_positives = np.zeros((batch_size, 784))\n",
        "  x_negatives = np.zeros((batch_size, 784))\n",
        "\n",
        "  for i in range(batch_size):\n",
        "    # we need to find triplets\n",
        "    index_anchor = random.randint(0, x_train.shape[0]-1)\n",
        "    x_anchors[i] = x_train[index_anchor]\n",
        "\n",
        "    # fetching positive indices\n",
        "    indices_positive = np.squeeze(np.where(y_train == y_train[index_anchor]))\n",
        "    # fetching negative indices\n",
        "    indices_negative = np.squeeze(np.where(y_train != y_train[index_anchor]))\n",
        "\n",
        "    x_positives[i] = x_train[indices_positive[random.randint(0,len(indices_positive)-1)]]\n",
        "    x_negatives[i] = x_train[indices_negative[random.randint(0,len(indices_negative)-1)]]\n",
        "\n",
        "  # here three ndarrays(3, 784) are concatenated in a list\n",
        "  # say, for 4 batches, length of list will remain 3, as length of each anchors, positive, negative array changes with batch size\n",
        "  # but list elements remain 3\n",
        "  # shape of concatenated lis = (3, batch_size, 784) \n",
        "  return [x_anchors, x_positives, x_negatives]  "
      ],
      "execution_count": 6,
      "outputs": []
    },
    {
      "cell_type": "markdown",
      "metadata": {
        "id": "FNKdV_Io1Emq"
      },
      "source": [
        "## Sample Triplets Visualization"
      ]
    },
    {
      "cell_type": "code",
      "metadata": {
        "id": "TnMUbiSYq1Y_",
        "outputId": "980c2553-bc0e-4417-e9b5-8b5ea34acbc0",
        "colab": {
          "base_uri": "https://localhost:8080/",
          "height": 842
        }
      },
      "source": [
        "# creating 3 batches of triplets\n",
        "no_batches = 4\n",
        "example = create_batch(no_batches)\n",
        "print('Triplet batches visualization')\n",
        "for i in range(no_batches):\n",
        "  fig = plt.figure(figsize=(10,3))\n",
        "  fig.suptitle('Batch '+str(i+1))\n",
        "  for j in range(3):\n",
        "    plt.subplot(1,3, j+1)\n",
        "    plt.imshow(example[j][i].reshape(28,28))\n",
        "    plt.xticks([])\n",
        "    plt.yticks([])\n",
        "\n"
      ],
      "execution_count": 7,
      "outputs": [
        {
          "output_type": "stream",
          "text": [
            "Triplet batches visualization\n"
          ],
          "name": "stdout"
        },
        {
          "output_type": "display_data",
          "data": {
            "image/png": "[encoded data removed]",
            "text/plain": [
              "<Figure size 720x216 with 3 Axes>"
            ]
          },
          "metadata": {
            "tags": []
          }
        },
        {
          "output_type": "display_data",
          "data": {
            "image/png": "[encoded data removed]",
            "text/plain": [
              "<Figure size 720x216 with 3 Axes>"
            ]
          },
          "metadata": {
            "tags": []
          }
        },
        {
          "output_type": "display_data",
          "data": {
            "image/png": "[encoded data removed]",
            "text/plain": [
              "<Figure size 720x216 with 3 Axes>"
            ]
          },
          "metadata": {
            "tags": []
          }
        },
        {
          "output_type": "display_data",
          "data": {
            "image/png": "[encoded data removed]",
            "text/plain": [
              "<Figure size 720x216 with 3 Axes>"
            ]
          },
          "metadata": {
            "tags": []
          }
        }
      ]
    },
    {
      "cell_type": "markdown",
      "metadata": {
        "id": "QM6mVxVH1RHm"
      },
      "source": [
        "# Embedding Model"
      ]
    },
    {
      "cell_type": "code",
      "metadata": {
        "id": "AEmTl-FwxILk",
        "outputId": "1e2032cc-56d9-4534-e78f-f41750df4e21",
        "colab": {
          "base_uri": "https://localhost:8080/",
          "height": 510
        }
      },
      "source": [
        "# let us consider embedding size = 64\n",
        "\n",
        "embed_size = 64\n",
        "\n",
        "embedding_model = tf.keras.models.Sequential([tf.keras.layers.Dense(64, activation='relu', input_shape = (784,)),\n",
        "                                              tf.keras.layers.Dense(embed_size, activation='sigmoid')])\n",
        "\n",
        "print('Embedding Model Summary\\n')\n",
        "embedding_model.summary()\n",
        "plot_model(embedding_model)"
      ],
      "execution_count": 8,
      "outputs": [
        {
          "output_type": "stream",
          "text": [
            "Embedding Model Summary\n",
            "\n",
            "Model: \"sequential\"\n",
            "_________________________________________________________________\n",
            "Layer (type)                 Output Shape              Param #   \n",
            "=================================================================\n",
            "dense (Dense)                (None, 64)                50240     \n",
            "_________________________________________________________________\n",
            "dense_1 (Dense)              (None, 64)                4160      \n",
            "=================================================================\n",
            "Total params: 54,400\n",
            "Trainable params: 54,400\n",
            "Non-trainable params: 0\n",
            "_________________________________________________________________\n"
          ],
          "name": "stdout"
        },
        {
          "output_type": "execute_result",
          "data": {
            "image/png": "[encoded data removed]",
            "text/plain": [
              "<IPython.core.display.Image object>"
            ]
          },
          "metadata": {
            "tags": []
          },
          "execution_count": 8
        }
      ]
    },
    {
      "cell_type": "markdown",
      "metadata": {
        "id": "aelv483d2VIx"
      },
      "source": [
        "# Siamese Network"
      ]
    },
    {
      "cell_type": "code",
      "metadata": {
        "id": "G5mYfURpy2rN",
        "outputId": "d8b5051b-7a39-42e5-d068-c290efe37cdf",
        "colab": {
          "base_uri": "https://localhost:8080/",
          "height": 1000
        }
      },
      "source": [
        "input_anchor = tf.keras.layers.Input(shape=(784,))\n",
        "input_positive = tf.keras.layers.Input(shape=(784,))\n",
        "input_negative = tf.keras.layers.Input(shape=(784,))\n",
        "\n",
        "# the model object can take input layer argument\n",
        "embedding_anchor = embedding_model(input_anchor)\n",
        "embedding_positive = embedding_model(input_positive)\n",
        "embedding_negative = embedding_model(input_negative)\n",
        "\n",
        "output = tf.keras.layers.concatenate([embedding_anchor, embedding_positive, embedding_negative], axis = 1)\n",
        "\n",
        "net = tf.keras.models.Model([input_anchor, input_positive, input_negative], output)\n",
        "\n",
        "print('Siamese Network Summary\\n')\n",
        "net.summary()\n",
        "plot_model(net)\n",
        "print(embedding_model.weights)"
      ],
      "execution_count": 9,
      "outputs": [
        {
          "output_type": "stream",
          "text": [
            "Siamese Network Summary\n",
            "\n",
            "Model: \"functional_1\"\n",
            "__________________________________________________________________________________________________\n",
            "Layer (type)                    Output Shape         Param #     Connected to                     \n",
            "==================================================================================================\n",
            "input_1 (InputLayer)            [(None, 784)]        0                                            \n",
            "__________________________________________________________________________________________________\n",
            "input_2 (InputLayer)            [(None, 784)]        0                                            \n",
            "__________________________________________________________________________________________________\n",
            "input_3 (InputLayer)            [(None, 784)]        0                                            \n",
            "__________________________________________________________________________________________________\n",
            "sequential (Sequential)         (None, 64)           54400       input_1[0][0]                    \n",
            "                                                                 input_2[0][0]                    \n",
            "                                                                 input_3[0][0]                    \n",
            "__________________________________________________________________________________________________\n",
            "concatenate (Concatenate)       (None, 192)          0           sequential[0][0]                 \n",
            "                                                                 sequential[1][0]                 \n",
            "                                                                 sequential[2][0]                 \n",
            "==================================================================================================\n",
            "Total params: 54,400\n",
            "Trainable params: 54,400\n",
            "Non-trainable params: 0\n",
            "__________________________________________________________________________________________________\n",
            "[<tf.Variable 'dense/kernel:0' shape=(784, 64) dtype=float32, numpy=\n",
            "array([[-0.06928901, -0.04576991,  0.02403958, ..., -0.06173437,\n",
            "         0.0732073 , -0.04602154],\n",
            "       [-0.07149694,  0.06499022, -0.06990989, ..., -0.0382513 ,\n",
            "        -0.07555729,  0.05883598],\n",
            "       [ 0.03613395, -0.06267017,  0.06554002, ...,  0.01638675,\n",
            "        -0.03044569,  0.04058553],\n",
            "       ...,\n",
            "       [ 0.07190024,  0.00732757,  0.05767342, ..., -0.02473881,\n",
            "        -0.07185031, -0.03893021],\n",
            "       [ 0.01871792, -0.02227961,  0.06081349, ..., -0.05403701,\n",
            "        -0.05576662,  0.05444268],\n",
            "       [ 0.06135296, -0.00303356, -0.03576832, ...,  0.05528594,\n",
            "         0.04890916, -0.0193413 ]], dtype=float32)>, <tf.Variable 'dense/bias:0' shape=(64,) dtype=float32, numpy=\n",
            "array([0., 0., 0., 0., 0., 0., 0., 0., 0., 0., 0., 0., 0., 0., 0., 0., 0.,\n",
            "       0., 0., 0., 0., 0., 0., 0., 0., 0., 0., 0., 0., 0., 0., 0., 0., 0.,\n",
            "       0., 0., 0., 0., 0., 0., 0., 0., 0., 0., 0., 0., 0., 0., 0., 0., 0.,\n",
            "       0., 0., 0., 0., 0., 0., 0., 0., 0., 0., 0., 0., 0.], dtype=float32)>, <tf.Variable 'dense_1/kernel:0' shape=(64, 64) dtype=float32, numpy=\n",
            "array([[ 0.11525644, -0.16703117,  0.18340133, ..., -0.0304193 ,\n",
            "         0.01540548,  0.17856829],\n",
            "       [ 0.16025223, -0.17167796, -0.1544092 , ..., -0.1537399 ,\n",
            "        -0.18814257,  0.02265306],\n",
            "       [ 0.15536223,  0.13962476, -0.18430278, ...,  0.02215742,\n",
            "         0.18734185,  0.07550775],\n",
            "       ...,\n",
            "       [ 0.18365861, -0.01623598, -0.1520822 , ...,  0.01904209,\n",
            "         0.02784114, -0.10280911],\n",
            "       [ 0.08602355, -0.11613701, -0.18923476, ..., -0.20528296,\n",
            "         0.05912398, -0.09071697],\n",
            "       [ 0.11342444,  0.00627421,  0.02310514, ...,  0.15717293,\n",
            "         0.18382008, -0.01264849]], dtype=float32)>, <tf.Variable 'dense_1/bias:0' shape=(64,) dtype=float32, numpy=\n",
            "array([0., 0., 0., 0., 0., 0., 0., 0., 0., 0., 0., 0., 0., 0., 0., 0., 0.,\n",
            "       0., 0., 0., 0., 0., 0., 0., 0., 0., 0., 0., 0., 0., 0., 0., 0., 0.,\n",
            "       0., 0., 0., 0., 0., 0., 0., 0., 0., 0., 0., 0., 0., 0., 0., 0., 0.,\n",
            "       0., 0., 0., 0., 0., 0., 0., 0., 0., 0., 0., 0., 0.], dtype=float32)>]\n"
          ],
          "name": "stdout"
        }
      ]
    },
    {
      "cell_type": "markdown",
      "metadata": {
        "id": "eSOUgbJqv95b"
      },
      "source": [
        "# Triplet Loss\n",
        "\n",
        "A loss function that tries to pull the Embeddings of Anchor and Positive Examples closer, and tries to push the Embeddings of Anchor and Negative Examples away from each other.\n",
        "\n",
        "Root mean square difference between Anchor and Positive examples in a batch of N images is:\n",
        "$\n",
        "\\begin{equation}\n",
        "d_p = \\sqrt{\\frac{\\sum_{i=0}^{N-1}(f(a_i) - f(p_i))^2}{N}}\n",
        "\\end{equation}\n",
        "$\n",
        "\n",
        "Root mean square difference between Anchor and Negative examples in a batch of N images is:\n",
        "$\n",
        "\\begin{equation}\n",
        "d_n = \\sqrt{\\frac{\\sum_{i=0}^{N-1}(f(a_i) - f(n_i))^2}{N}}\n",
        "\\end{equation}\n",
        "$\n",
        "\n",
        "For each example, we want:\n",
        "$\n",
        "\\begin{equation}\n",
        "d_p \\leq d_n\n",
        "\\end{equation}\n",
        "$\n",
        "\n",
        "Therefore,\n",
        "$\n",
        "\\begin{equation}\n",
        "d_p - d_n \\leq 0\n",
        "\\end{equation}\n",
        "$\n",
        "\n",
        "This condition is quite easily satisfied during the training.\n",
        "\n",
        "We will make it non-trivial by adding a margin (alpha):\n",
        "$\n",
        "\\begin{equation}\n",
        "d_p - d_n + \\alpha \\leq 0\n",
        "\\end{equation}\n",
        "$\n",
        "\n",
        "Given the condition above, the Triplet Loss L is defined as:\n",
        "$\n",
        "\\begin{equation}\n",
        "L = max(d_p - d_n + \\alpha, 0)\n",
        "\\end{equation}\n",
        "$"
      ]
    },
    {
      "cell_type": "code",
      "metadata": {
        "id": "h6QMHLa98ov5"
      },
      "source": [
        "# choosing the margin hyperparameter to be 0.2\n",
        "alpha = 0.2\n",
        "\n",
        "def triplet_loss(y_true, y_pred):\n",
        "  anchor, positive, negative = y_pred[:,:embed_size],y_pred[:,embed_size:2*embed_size],y_pred[:,2*embed_size:]\n",
        "  positive_dist = tf.reduce_mean(tf.square(tf.subtract(anchor, positive)), axis = 1)\n",
        "  negative_dist = tf.reduce_mean(tf.square(tf.subtract(anchor, negative)), axis = 1)\n",
        "  diff = tf.subtract(positive_dist, negative_dist)\n",
        "  loss = tf.maximum(diff + alpha, 0)\n",
        "\n",
        "  return loss"
      ],
      "execution_count": 10,
      "outputs": []
    },
    {
      "cell_type": "code",
      "metadata": {
        "id": "oJsYWZ8IjHVJ"
      },
      "source": [
        "def data_generator(batch_size=256):\n",
        "    while True:\n",
        "        x = create_batch(batch_size)\n",
        "        y = np.zeros((batch_size, 3*embed_size))\n",
        "        yield x, y"
      ],
      "execution_count": 11,
      "outputs": []
    },
    {
      "cell_type": "markdown",
      "metadata": {
        "id": "P7okFe7kc8Yi"
      },
      "source": [
        "# Model Training"
      ]
    },
    {
      "cell_type": "markdown",
      "metadata": {
        "id": "erQDb5BYiRTg"
      },
      "source": [
        "Adam optimizer is used here"
      ]
    },
    {
      "cell_type": "code",
      "metadata": {
        "id": "_cESDCHDbV8A",
        "outputId": "6272af8f-7b4b-49af-9505-a08a9dbda7f2",
        "colab": {
          "base_uri": "https://localhost:8080/",
          "height": 636
        }
      },
      "source": [
        "net.compile(optimizer=Adam(lr=0.001), loss = triplet_loss)\n",
        "\n",
        "batch_size = 2048\n",
        "steps_per_epoch = int(x_train.shape[0]/batch_size)\n",
        "\n",
        "history = net.fit(data_generator(batch_size=batch_size),\n",
        "                  steps_per_epoch=steps_per_epoch,\n",
        "                  epochs = 10,\n",
        "                  verbose = 1,\n",
        "                  callbacks = [PlotLossesCallback()]\n",
        "                  )"
      ],
      "execution_count": 12,
      "outputs": [
        {
          "output_type": "display_data",
          "data": {
            "image/png": "[encoded data removed]",
            "text/plain": [
              "<Figure size 864x576 with 2 Axes>"
            ]
          },
          "metadata": {
            "tags": [],
            "needs_background": "light"
          }
        },
        {
          "output_type": "stream",
          "text": [
            "Loss\n",
            "\tloss             \t (min:    0.030, max:    0.167, cur:    0.030)\n",
            "\b\b\b\b\b\b\b\b\b\b\b\b\b\b\b\b\b\b\b\b\b\b\b\b\b\b\b\b\b\b\b\b\b\b\b\b\b\b\b\b\b\b\b\b\b\b\b\b\b\b\b\b\b\b\b\b\b\b\b\b\b\b\b\r29/29 [==============================] - 26s 910ms/step - loss: 0.0297\n"
          ],
          "name": "stdout"
        }
      ]
    },
    {
      "cell_type": "markdown",
      "metadata": {
        "id": "U7v0D8ROiS4a"
      },
      "source": [
        "**Note: When to use yield instead of return in Python?**\n",
        "\n",
        "The yield statement suspends function’s execution and sends a value back to the caller, but retains enough state to enable function to resume where it is left off. When resumed, the function continues execution immediately after the last yield run. This allows its code to produce a series of values over time, rather than computing them at once and sending them back like a list.\n",
        "\n",
        "Let’s see with an example:\n",
        "\n",
        "filter_none\n",
        "edit\n",
        "play_arrow\n",
        "\n",
        "brightness_4\n",
        "\n",
        "'''\n",
        "def simpleGeneratorFun(): \n",
        "\n",
        "    yield 1\n",
        "    yield 2\n",
        "    yield 3\n",
        "'''  \n",
        "for value in simpleGeneratorFun():  \n",
        "    print(value) \n",
        "Output:\n",
        "\n",
        "1\n",
        "2\n",
        "3\n",
        "Return sends a specified value back to its caller whereas Yield can produce a sequence of values. We should use yield when we want to iterate over a sequence, but don’t want to store the entire sequence in memory.\n",
        "\n",
        "Yield are used in Python generators. A generator function is defined like a normal function, but whenever it needs to generate a value, it does so with the yield keyword rather than return. If the body of a def contains yield, the function automatically becomes a generator function.\n",
        "\n"
      ]
    },
    {
      "cell_type": "code",
      "metadata": {
        "id": "Xp1udHc0dWV9"
      },
      "source": [
        "indices_of_zero = np.squeeze(np.where(y_test == 1))"
      ],
      "execution_count": 47,
      "outputs": []
    },
    {
      "cell_type": "code",
      "metadata": {
        "id": "v9E4O_0io6iT",
        "outputId": "f9d8d10f-d401-460c-c277-653e3ef25b8d",
        "colab": {
          "base_uri": "https://localhost:8080/",
          "height": 282
        }
      },
      "source": [
        "image = x_test[indices_of_zero[0]]\n",
        "plt.imshow(image.reshape(28,28), cmap = 'gray')"
      ],
      "execution_count": 48,
      "outputs": [
        {
          "output_type": "execute_result",
          "data": {
            "text/plain": [
              "<matplotlib.image.AxesImage at 0x7f3c75593860>"
            ]
          },
          "metadata": {
            "tags": []
          },
          "execution_count": 48
        },
        {
          "output_type": "display_data",
          "data": {
            "image/png": "[encoded data removed]",
            "text/plain": [
              "<Figure size 432x288 with 1 Axes>"
            ]
          },
          "metadata": {
            "tags": [],
            "needs_background": "light"
          }
        }
      ]
    },
    {
      "cell_type": "code",
      "metadata": {
        "id": "EK_kxawmtD_r"
      },
      "source": [
        "image = image.reshape(1,784)"
      ],
      "execution_count": 49,
      "outputs": []
    },
    {
      "cell_type": "code",
      "metadata": {
        "id": "uRTVw70rtO1p"
      },
      "source": [
        "out1 = embedding_model.predict(image)"
      ],
      "execution_count": 50,
      "outputs": []
    },
    {
      "cell_type": "code",
      "metadata": {
        "id": "a2OVi3W2tcgZ",
        "outputId": "a08c9806-48a4-4436-bc04-53add64d8d05",
        "colab": {
          "base_uri": "https://localhost:8080/",
          "height": 265
        }
      },
      "source": [
        "image1 = x_test[indices_of_zero[1]]\n",
        "plt.imshow(image1.reshape(28,28), cmap = 'gray')\n",
        "image1 = image1.reshape(1,784)"
      ],
      "execution_count": 51,
      "outputs": [
        {
          "output_type": "display_data",
          "data": {
            "image/png": "[encoded data removed]",
            "text/plain": [
              "<Figure size 432x288 with 1 Axes>"
            ]
          },
          "metadata": {
            "tags": [],
            "needs_background": "light"
          }
        }
      ]
    },
    {
      "cell_type": "code",
      "metadata": {
        "id": "bmx385ugtosy"
      },
      "source": [
        "out2 = embedding_model.predict(image1)"
      ],
      "execution_count": 52,
      "outputs": []
    },
    {
      "cell_type": "code",
      "metadata": {
        "id": "jcOHskx_t0hQ",
        "outputId": "e1ec4744-f8d6-4dba-af41-c08e8230adf3",
        "colab": {
          "base_uri": "https://localhost:8080/",
          "height": 34
        }
      },
      "source": [
        "out1.shape"
      ],
      "execution_count": 53,
      "outputs": [
        {
          "output_type": "execute_result",
          "data": {
            "text/plain": [
              "(1, 64)"
            ]
          },
          "metadata": {
            "tags": []
          },
          "execution_count": 53
        }
      ]
    },
    {
      "cell_type": "code",
      "metadata": {
        "id": "Dira9Go9t9WF",
        "outputId": "6a177fce-4478-4aec-8b8c-bd9f4712486e",
        "colab": {
          "base_uri": "https://localhost:8080/",
          "height": 34
        }
      },
      "source": [
        "out2.shape"
      ],
      "execution_count": 54,
      "outputs": [
        {
          "output_type": "execute_result",
          "data": {
            "text/plain": [
              "(1, 64)"
            ]
          },
          "metadata": {
            "tags": []
          },
          "execution_count": 54
        }
      ]
    },
    {
      "cell_type": "code",
      "metadata": {
        "id": "TfXr3J1Ct_Z6"
      },
      "source": [
        "diff = tf.reduce_mean(tf.square(tf.subtract(out1, out2)), axis = 1)"
      ],
      "execution_count": 55,
      "outputs": []
    },
    {
      "cell_type": "code",
      "metadata": {
        "id": "L_btqUoluP_q",
        "outputId": "3fb04b70-3f47-4fa3-b9b2-fbc6bb5e162f",
        "colab": {
          "base_uri": "https://localhost:8080/",
          "height": 34
        }
      },
      "source": [
        "# we are taking min loss\n",
        "print(diff)"
      ],
      "execution_count": 56,
      "outputs": [
        {
          "output_type": "stream",
          "text": [
            "tf.Tensor([0.0071592], shape=(1,), dtype=float32)\n"
          ],
          "name": "stdout"
        }
      ]
    },
    {
      "cell_type": "code",
      "metadata": {
        "id": "zNCG_VQtuT2q"
      },
      "source": [
        ""
      ],
      "execution_count": null,
      "outputs": []
    }
  ]
}